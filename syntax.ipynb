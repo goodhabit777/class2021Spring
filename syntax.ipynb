{
  "nbformat": 4,
  "nbformat_minor": 0,
  "metadata": {
    "colab": {
      "name": "Untitled18.ipynb",
      "provenance": [],
      "authorship_tag": "ABX9TyM2cTDfbt0yGhvjzW+c6CYt",
      "include_colab_link": true
    },
    "kernelspec": {
      "name": "python3",
      "display_name": "Python 3"
    }
  },
  "cells": [
    {
      "cell_type": "markdown",
      "metadata": {
        "id": "view-in-github",
        "colab_type": "text"
      },
      "source": [
        "<a href=\"https://colab.research.google.com/github/goodhabit777/class2021Spring/blob/main/syntax.ipynb\" target=\"_parent\"><img src=\"https://colab.research.google.com/assets/colab-badge.svg\" alt=\"Open In Colab\"/></a>"
      ]
    },
    {
      "cell_type": "code",
      "metadata": {
        "id": "H9Lzi-0hkBnv"
      },
      "source": [
        ""
      ],
      "execution_count": null,
      "outputs": []
    },
    {
      "cell_type": "markdown",
      "metadata": {
        "id": "DCMYXJP8kO7m"
      },
      "source": [
        "교수님 리포지토리 내용을 출력해서 읽어보았다\r\n",
        "\r\n",
        "다 이해하기에 어렵지 않은 내용이었으나 enumerate 함수와 zip함수가 이해가 바로\r\n",
        "되지가 않아서 이 점에 대해서만 추가적으로 공부를 진행하였다.\r\n",
        "\r\n",
        "# 1. enumerate\r\n",
        "enumerate는 반복문 사용시에 수행되고 있는 반복문이 몇 번째로 반복이 된 것인지를 추적해야할 필요가 있을 때에 사용하는 함수이다\r\n",
        "점프 투 파이썬의 설명은 이렇다 \"반복되는 구간에서 객체가 현재 어느 위치에\r\n",
        "있는지 알려 주는 인덱스 값이 필요할 떄 enumerate 함수를 사용하면 아주 유용하다.\r\n",
        "\r\n",
        "\r\n",
        "# 2.zip\r\n",
        "enumerate는 교재 설명을 읽어보았는데도 이해가 잘 되지 않는다 아직까지는 \r\n",
        "그러나 zip함수는 이해하는 데에 있어서 그렇게 어렵지 않았다.\r\n",
        "점프 투 파이썬 교재의 설명은 이렇다\r\n",
        "\"동일한 개수로 이루어진 자로형을 묶어주는 역할을 하는 함수이다."
      ]
    }
  ]
}