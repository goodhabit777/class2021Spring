{
  "nbformat": 4,
  "nbformat_minor": 0,
  "metadata": {
    "colab": {
      "name": "Untitled11.ipynb",
      "provenance": [],
      "authorship_tag": "ABX9TyNBRjFTliFu/g7ilmmDQbR3",
      "include_colab_link": true
    },
    "kernelspec": {
      "name": "python3",
      "display_name": "Python 3"
    }
  },
  "cells": [
    {
      "cell_type": "markdown",
      "metadata": {
        "id": "view-in-github",
        "colab_type": "text"
      },
      "source": [
        "<a href=\"https://colab.research.google.com/github/goodhabit777/class2021Spring/blob/main/programming.ipynb\" target=\"_parent\"><img src=\"https://colab.research.google.com/assets/colab-badge.svg\" alt=\"Open In Colab\"/></a>"
      ]
    },
    {
      "cell_type": "code",
      "metadata": {
        "id": "VvK-AqFLoP6P"
      },
      "source": [
        ""
      ],
      "execution_count": null,
      "outputs": []
    },
    {
      "cell_type": "markdown",
      "metadata": {
        "id": "3pMoxxAAocRa"
      },
      "source": [
        "파일이름은 Programmig\r\n",
        "\r\n",
        "변수\r\n",
        "프로그래밍 언어로 명령한 제어문, 그리고 그 제어문들을 잘 구성하여 만든 함수에 입력이 되고 \r\n",
        "또 출력이 되는 값들을 총칭한다. \r\n",
        "\r\n",
        "제어문\r\n",
        "변수를 문자그대로 제어하여 그 상태를 변화시키는 작업을 컴퓨터에게 명령하는 명령문이라고 할 수 있다.\r\n",
        "\r\n",
        "함수\r\n",
        "어떤 특정 변수를 입력 값으로 받아서 미리 정해진 제어 구조에 따라 그 변수를 처리하고 처리된 결과값을 출력하는\r\n",
        "역할을 하는 프로그래밍 단위이다."
      ]
    }
  ]
}