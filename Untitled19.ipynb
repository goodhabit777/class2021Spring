{
  "nbformat": 4,
  "nbformat_minor": 0,
  "metadata": {
    "colab": {
      "name": "Untitled19.ipynb",
      "provenance": [],
      "authorship_tag": "ABX9TyN+ekOkeMvp3ZpaQ8qbYfNq",
      "include_colab_link": true
    },
    "kernelspec": {
      "name": "python3",
      "display_name": "Python 3"
    }
  },
  "cells": [
    {
      "cell_type": "markdown",
      "metadata": {
        "id": "view-in-github",
        "colab_type": "text"
      },
      "source": [
        "<a href=\"https://colab.research.google.com/github/goodhabit777/class2021Spring/blob/main/Untitled19.ipynb\" target=\"_parent\"><img src=\"https://colab.research.google.com/assets/colab-badge.svg\" alt=\"Open In Colab\"/></a>"
      ]
    },
    {
      "cell_type": "code",
      "metadata": {
        "id": "kMSVhs8OnMuL"
      },
      "source": [
        ""
      ],
      "execution_count": null,
      "outputs": []
    },
    {
      "cell_type": "markdown",
      "metadata": {
        "id": "_uK6VJNSnNZG"
      },
      "source": [
        "# variable\r\n",
        "이 부분에서 이해가 되지 않는 내용은 없었다\r\n",
        "파이썬이라는 언어에서 미리 정의가 된 자료형은 총 7가지이다\r\n",
        "1 숫자형\r\n",
        "2 문자형\r\n",
        "3 리스트\r\n",
        "4 튜플\r\n",
        "5 딕셔너리\r\n",
        "6 집합\r\n",
        "7 불\r\n",
        "모든 데이터는 이 7가지 중의 하나의 형태로 정리된다.\r\n",
        "\r\n",
        "이 7가지 형태중 하나를 취하는 데이터들은 '변수'에 저장이 된다.\r\n",
        "왜냐하면 파이썬이라는 언어가 객체지향적인 언어로 변수에 데이터가 저장이\r\n",
        "되어 있어야지만 코드를 이해하고 식별하여 처리할 수 있기 때문이다."
      ]
    }
  ]
}