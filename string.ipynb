{
  "nbformat": 4,
  "nbformat_minor": 0,
  "metadata": {
    "colab": {
      "name": "Untitled12.ipynb",
      "provenance": [],
      "authorship_tag": "ABX9TyPCPtLP0NJfOfANm5ILVY11",
      "include_colab_link": true
    },
    "kernelspec": {
      "name": "python3",
      "display_name": "Python 3"
    }
  },
  "cells": [
    {
      "cell_type": "markdown",
      "metadata": {
        "id": "view-in-github",
        "colab_type": "text"
      },
      "source": [
        "<a href=\"https://colab.research.google.com/github/goodhabit777/class2021Spring/blob/main/string.ipynb\" target=\"_parent\"><img src=\"https://colab.research.google.com/assets/colab-badge.svg\" alt=\"Open In Colab\"/></a>"
      ]
    },
    {
      "cell_type": "code",
      "metadata": {
        "id": "T3Kpm7--RKF3"
      },
      "source": [
        "In [6]:\r\n",
        "s = 'abcdef'\r\n",
        "print(s[0], s[5], s[-1], s[-6])\r\n",
        "print(s[1:3], s[1:], s[:3], s[:])\r\n",
        "<class 'str'>\r\n",
        "a f f a\r\n",
        "bc bcdef abc abcdef\r\n",
        "In [3]:\r\n",
        "n = [100, 200, 300]\r\n",
        "print(n[0], n[2], n[-1], n[-3])\r\n",
        "print(n[1:2], n[1:], n[:2], n[:])\r\n",
        "100 300 300 100\r\n",
        "[200] [200, 300] [100, 200] [100, 200, 300]\r\n",
        "In [4]:\r\n",
        "len(s)\r\n",
        "Out[4]:\r\n",
        "6\r\n",
        "In [5]:\r\n",
        "s[1]+s[3]+s[4:]*10\r\n",
        "Out[5]:\r\n",
        "'bdefefefefefefefefefef'\r\n",
        "In [7]:\r\n",
        "s.upper()\r\n",
        "Out[7]:\r\n",
        "'ABCDEF'\r\n",
        "In [10]:\r\n",
        "s = ' this is a house built this year.\\n' \t\r\n",
        "s\r\n",
        "Out[10]:\r\n",
        "' this is a house built this year.\\n'\r\n",
        "In [11]:\r\n",
        "result = s.find('house') \t    # index of first instance of string t inside s (-1 if not found)\r\n",
        "result\r\n",
        "Out[11]:\r\n",
        "11\r\n",
        "In [12]:\r\n",
        "result = s.find('this')\t    # index of last instance of string t inside s (-1 if not found)\r\n",
        "result\r\n",
        "Out[12]:\r\n",
        "1\r\n",
        "In [13]:\r\n",
        "result = s.rindex('this')        # like s.find(t) except it raises ValueError if not found\r\n",
        "result\r\n",
        "Out[13]:\r\n",
        "23\r\n",
        "In [14]:\r\n",
        "s = s.strip()      \t            # a copy of s without leading or trailing whitespace\r\n",
        "s\r\n",
        "Out[14]:\r\n",
        "'this is a house built this year.'\r\n",
        "In [15]:\r\n",
        "tokens = s.split(' ')\t        # split s into a list wherever a t is found (whitespace by default)\r\n",
        "tokens\r\n",
        "Out[15]:\r\n",
        "['this', 'is', 'a', 'house', 'built', 'this', 'year.']\r\n",
        "In [16]:\r\n",
        "s = ' '.join(tokens)\t        # combine the words of the text into a string using s as the glue\r\n",
        "s\r\n",
        "Out[16]:\r\n",
        "'this is a house built this year.'\r\n",
        "In [17]:\r\n",
        "s = s.replace('this', 'that')   # replace instances of t with u inside s\r\n",
        "s\r\n",
        "Out[17]:\r\n",
        "'that is a house built that year.'"
      ],
      "execution_count": null,
      "outputs": []
    }
  ]
}