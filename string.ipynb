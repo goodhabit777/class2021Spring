{
  "nbformat": 4,
  "nbformat_minor": 0,
  "metadata": {
    "kernelspec": {
      "display_name": "Python 3",
      "language": "python",
      "name": "python3"
    },
    "language_info": {
      "codemirror_mode": {
        "name": "ipython",
        "version": 3
      },
      "file_extension": ".py",
      "mimetype": "text/x-python",
      "name": "python",
      "nbconvert_exporter": "python",
      "pygments_lexer": "ipython3",
      "version": "3.7.1"
    },
    "colab": {
      "name": "string.ipynb의 사본",
      "provenance": [],
      "include_colab_link": true
    }
  },
  "cells": [
    {
      "cell_type": "markdown",
      "metadata": {
        "id": "view-in-github",
        "colab_type": "text"
      },
      "source": [
        "<a href=\"https://colab.research.google.com/github/goodhabit777/class2021Spring/blob/main/string.ipynb\" target=\"_parent\"><img src=\"https://colab.research.google.com/assets/colab-badge.svg\" alt=\"Open In Colab\"/></a>"
      ]
    },
    {
      "cell_type": "code",
      "metadata": {
        "id": "q3rAOE-wurKY",
        "outputId": "3eec2cd4-7fcb-47ed-a14f-ddee754aa08a",
        "colab": {
          "base_uri": "https://localhost:8080/"
        }
      },
      "source": [
        "s = 'TheLuckiset'\n",
        "print(s[0], s[7], s[-2], s[-3])\n",
        "print(s[1:3], s[1:], s[:2], s[:])"
      ],
      "execution_count": 3,
      "outputs": [
        {
          "output_type": "stream",
          "text": [
            "T i e s\n",
            "he heLuckiset Th TheLuckiset\n"
          ],
          "name": "stdout"
        }
      ]
    },
    {
      "cell_type": "code",
      "metadata": {
        "id": "6gW7LcAjurKe",
        "outputId": "872fe56a-f7be-4324-be55-a03035a6b812",
        "colab": {
          "base_uri": "https://localhost:8080/"
        }
      },
      "source": [
        "n = [7, 77, 777]\n",
        "print(n[0], n[2], n[-1], n[-3])\n",
        "print(n[1:2], n[1:], n[:2], n[:])"
      ],
      "execution_count": 4,
      "outputs": [
        {
          "output_type": "stream",
          "text": [
            "7 777 777 7\n",
            "[77] [77, 777] [7, 77] [7, 77, 777]\n"
          ],
          "name": "stdout"
        }
      ]
    },
    {
      "cell_type": "code",
      "metadata": {
        "id": "yhH3dnJJurKf",
        "outputId": "68b83695-21a5-402b-dac9-f48381bead13",
        "colab": {
          "base_uri": "https://localhost:8080/"
        }
      },
      "source": [
        "len(s)"
      ],
      "execution_count": 5,
      "outputs": [
        {
          "output_type": "execute_result",
          "data": {
            "text/plain": [
              "11"
            ]
          },
          "metadata": {
            "tags": []
          },
          "execution_count": 5
        }
      ]
    },
    {
      "cell_type": "code",
      "metadata": {
        "id": "CuIxLEgWurKf",
        "outputId": "b27fd57a-b78b-4735-9b4d-840aeb3cd5e0",
        "colab": {
          "base_uri": "https://localhost:8080/",
          "height": 36
        }
      },
      "source": [
        "s[1]+s[7]+s[4:]*10"
      ],
      "execution_count": 6,
      "outputs": [
        {
          "output_type": "execute_result",
          "data": {
            "application/vnd.google.colaboratory.intrinsic+json": {
              "type": "string"
            },
            "text/plain": [
              "'hiuckisetuckisetuckisetuckisetuckisetuckisetuckisetuckisetuckisetuckiset'"
            ]
          },
          "metadata": {
            "tags": []
          },
          "execution_count": 6
        }
      ]
    },
    {
      "cell_type": "code",
      "metadata": {
        "id": "B-4Qj7h5urKg",
        "outputId": "8bf6096b-95d3-45ff-a10c-25d13b3fd79f",
        "colab": {
          "base_uri": "https://localhost:8080/",
          "height": 36
        }
      },
      "source": [
        "s.lower()"
      ],
      "execution_count": 7,
      "outputs": [
        {
          "output_type": "execute_result",
          "data": {
            "application/vnd.google.colaboratory.intrinsic+json": {
              "type": "string"
            },
            "text/plain": [
              "'theluckiset'"
            ]
          },
          "metadata": {
            "tags": []
          },
          "execution_count": 7
        }
      ]
    },
    {
      "cell_type": "code",
      "metadata": {
        "id": "NH4kiUqBurKg",
        "outputId": "943729ad-b232-41f8-91d1-92bef97c014e",
        "colab": {
          "base_uri": "https://localhost:8080/",
          "height": 36
        }
      },
      "source": [
        "s = ' this is a lucky house built this year.\\n' \t\n",
        "s"
      ],
      "execution_count": 8,
      "outputs": [
        {
          "output_type": "execute_result",
          "data": {
            "application/vnd.google.colaboratory.intrinsic+json": {
              "type": "string"
            },
            "text/plain": [
              "' this is a lucky house built this year.\\n'"
            ]
          },
          "metadata": {
            "tags": []
          },
          "execution_count": 8
        }
      ]
    },
    {
      "cell_type": "code",
      "metadata": {
        "id": "fLQKJxqgurKg",
        "outputId": "90d659b7-e594-4b61-a906-7d455506448f",
        "colab": {
          "base_uri": "https://localhost:8080/"
        }
      },
      "source": [
        "result = s.find('luck') \t    # index of first instance of string t inside s (-1 if not found)\n",
        "result"
      ],
      "execution_count": 9,
      "outputs": [
        {
          "output_type": "execute_result",
          "data": {
            "text/plain": [
              "11"
            ]
          },
          "metadata": {
            "tags": []
          },
          "execution_count": 9
        }
      ]
    },
    {
      "cell_type": "code",
      "metadata": {
        "id": "q8gAMAnFurKh",
        "outputId": "ef45b9ac-552f-491c-d861-776c8a093f5e",
        "colab": {
          "base_uri": "https://localhost:8080/"
        }
      },
      "source": [
        "result = s.find('this')\t    # index of last instance of string t inside s (-1 if not found)\n",
        "result"
      ],
      "execution_count": 10,
      "outputs": [
        {
          "output_type": "execute_result",
          "data": {
            "text/plain": [
              "1"
            ]
          },
          "metadata": {
            "tags": []
          },
          "execution_count": 10
        }
      ]
    },
    {
      "cell_type": "code",
      "metadata": {
        "id": "hEP3BGLIurKh",
        "outputId": "1b43c3bd-441d-4b2d-b501-b99020c45a52",
        "colab": {
          "base_uri": "https://localhost:8080/"
        }
      },
      "source": [
        "result = s.rindex('this')        # like s.find(t) except it raises ValueError if not found\n",
        "result"
      ],
      "execution_count": 11,
      "outputs": [
        {
          "output_type": "execute_result",
          "data": {
            "text/plain": [
              "29"
            ]
          },
          "metadata": {
            "tags": []
          },
          "execution_count": 11
        }
      ]
    },
    {
      "cell_type": "code",
      "metadata": {
        "id": "CpFnxuosurKh",
        "outputId": "4debd91b-b011-4a60-9295-483664696a41",
        "colab": {
          "base_uri": "https://localhost:8080/",
          "height": 36
        }
      },
      "source": [
        "s = s.strip()      \t            # a copy of s without leading or trailing whitespace\n",
        "s"
      ],
      "execution_count": 13,
      "outputs": [
        {
          "output_type": "execute_result",
          "data": {
            "application/vnd.google.colaboratory.intrinsic+json": {
              "type": "string"
            },
            "text/plain": [
              "'this is a lucky house built this year.'"
            ]
          },
          "metadata": {
            "tags": []
          },
          "execution_count": 13
        }
      ]
    },
    {
      "cell_type": "code",
      "metadata": {
        "id": "2upnpA4aurKi",
        "outputId": "d270fe51-5d86-4ea5-ed86-c5cc39ba47e7",
        "colab": {
          "base_uri": "https://localhost:8080/"
        }
      },
      "source": [
        "tokens = s.split(' ')\t        # split s into a list wherever a t is found (whitespace by default)\n",
        "tokens"
      ],
      "execution_count": 14,
      "outputs": [
        {
          "output_type": "execute_result",
          "data": {
            "text/plain": [
              "['this', 'is', 'a', 'lucky', 'house', 'built', 'this', 'year.']"
            ]
          },
          "metadata": {
            "tags": []
          },
          "execution_count": 14
        }
      ]
    },
    {
      "cell_type": "code",
      "metadata": {
        "id": "HIUkcuqaurKi",
        "outputId": "b795e3ba-6271-4b95-b3d0-0dca7864e9c4"
      },
      "source": [
        "s = ' '.join(tokens)\t        # combine the words of the text into a string using s as the glue\n",
        "s"
      ],
      "execution_count": null,
      "outputs": [
        {
          "output_type": "execute_result",
          "data": {
            "text/plain": [
              "'this is a house built this year.'"
            ]
          },
          "metadata": {
            "tags": []
          },
          "execution_count": 16
        }
      ]
    },
    {
      "cell_type": "code",
      "metadata": {
        "id": "NZC37X6eurKi",
        "outputId": "6a9dfbe4-1066-4140-d4cb-6fffbc72a03b",
        "colab": {
          "base_uri": "https://localhost:8080/",
          "height": 36
        }
      },
      "source": [
        "s = s.replace('this', 'that')   # replace instances of t with u inside s\n",
        "s"
      ],
      "execution_count": 15,
      "outputs": [
        {
          "output_type": "execute_result",
          "data": {
            "application/vnd.google.colaboratory.intrinsic+json": {
              "type": "string"
            },
            "text/plain": [
              "'that is a lucky house built that year.'"
            ]
          },
          "metadata": {
            "tags": []
          },
          "execution_count": 15
        }
      ]
    }
  ]
}